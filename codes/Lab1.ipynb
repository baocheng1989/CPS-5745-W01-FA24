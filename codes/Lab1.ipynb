{
  "cells": [
    {
      "cell_type": "markdown",
      "metadata": {
        "colab_type": "text",
        "id": "view-in-github"
      },
      "source": [
        "<a href=\"https://colab.research.google.com/github/baocheng1989/CPS-5745-W01-FA24/blob/main/Lab1.ipynb\" target=\"_parent\"><img src=\"https://colab.research.google.com/assets/colab-badge.svg\" alt=\"Open In Colab\"/></a>"
      ]
    },
    {
      "cell_type": "code",
      "execution_count": null,
      "id": "cf734ccf",
      "metadata": {
        "id": "cf734ccf"
      },
      "outputs": [],
      "source": [
        "# The Objective is to create (write and read) a CVS file from a Python Dictionary"
      ]
    },
    {
      "cell_type": "markdown",
      "id": "7baa4afe",
      "metadata": {
        "id": "7baa4afe"
      },
      "source": [
        "# Practice 1\n",
        "To write some text to a file, we need to open the file using the open method and then we can use the write method for\n",
        "writing in this File.\n",
        "\n",
        "If we want to open a file that does not exist in our system, it creates a new one. On the other hand, if the File exists,\n",
        "then erase the past content and add new content to this File. It is done by the following access modes.\n",
        "\n",
        "w: It will overwrite the file if any file exists. The file pointer is at the beginning of the file.\n",
        "\n",
        "a: It will append the existing file. The file pointer is at the end of the file. It creates a new file if no file exists.\n"
      ]
    },
    {
      "cell_type": "code",
      "execution_count": 1,
      "id": "fd5c9c89",
      "metadata": {
        "id": "fd5c9c89"
      },
      "outputs": [],
      "source": [
        "# Consider A Python Dictionary\n",
        "nobel_winners = [\n",
        "{'category': 'Physics','name': 'Albert Einstein','nationality': 'Swiss','sex': 'male','year': 1921},\n",
        "{'category': 'Physics','name': 'Paul Dirac','nationality': 'British','sex': 'male','year': 1933},\n",
        "{'category': 'Chemistry','name': 'Marie Curie','nationality': 'Polish','sex': 'female','year': 1911}\n",
        "]"
      ]
    },
    {
      "cell_type": "markdown",
      "id": "d3a42197",
      "metadata": {
        "id": "d3a42197"
      },
      "source": [
        "1) Cretate the nobel_winnerss.csv and save it to your project data."
      ]
    },
    {
      "cell_type": "code",
      "execution_count": 2,
      "id": "CFjApb56YMu6",
      "metadata": {
        "colab": {
          "base_uri": "https://localhost:8080/"
        },
        "id": "CFjApb56YMu6",
        "outputId": "d7be6fc2-3fe3-410b-df7b-c4e74b07ca50"
      },
      "outputs": [
        {
          "name": "stdout",
          "output_type": "stream",
          "text": [
            "Physics,Albert Einstein,Swiss,male,1921\n",
            "Physics,Paul Dirac,British,male,1933\n",
            "Chemistry,Marie Curie,Polish,female,1911\n"
          ]
        }
      ],
      "source": [
        "for item in nobel_winners:\n",
        "  print(','.join(str(i) for i in item.values()))"
      ]
    },
    {
      "cell_type": "code",
      "execution_count": 7,
      "id": "XzBmjCTxvK9l",
      "metadata": {
        "colab": {
          "base_uri": "https://localhost:8080/"
        },
        "id": "XzBmjCTxvK9l",
        "outputId": "13340553-1f31-49e2-d833-f0978f5308e7"
      },
      "outputs": [
        {
          "name": "stdout",
          "output_type": "stream",
          "text": [
            "Physics,Albert Einstein,Swiss,male,1921\n",
            "Physics,Paul Dirac,British,male,1933\n"
          ]
        }
      ],
      "source": [
        "for item in nobel_winners:\n",
        "  if(item[\"category\"]==\"Physics\"):\n",
        "    print(','.join(str(i) for i in item.values()))"
      ]
    },
    {
      "cell_type": "code",
      "execution_count": null,
      "id": "dvB_vbQsXhpb",
      "metadata": {
        "id": "dvB_vbQsXhpb"
      },
      "outputs": [],
      "source": [
        "cols=nobel_winners[0].keys()\n",
        "with open('nobel_winners.csv','w') as f:\n",
        "  f.write(','.join(cols)+'\\n')\n",
        "  for item in nobel_winners:\n",
        "    # because it has int in the dict ('year'), it should be transform\n",
        "    f.write(','.join(str(i) for i in item.values())+'\\n')"
      ]
    },
    {
      "cell_type": "markdown",
      "id": "2cb70986",
      "metadata": {
        "id": "2cb70986"
      },
      "source": [
        "2) Gets data columns from the keys of the first object"
      ]
    },
    {
      "cell_type": "code",
      "execution_count": null,
      "id": "jSf_db86e-C0",
      "metadata": {
        "colab": {
          "base_uri": "https://localhost:8080/"
        },
        "id": "jSf_db86e-C0",
        "outputId": "25d6447f-34e9-47eb-e42b-ca7fe3884512"
      },
      "outputs": [
        {
          "data": {
            "text/plain": [
              "dict_values(['Physics', 'Albert Einstein', 'Swiss', 'male', 1921])"
            ]
          },
          "execution_count": 29,
          "metadata": {},
          "output_type": "execute_result"
        }
      ],
      "source": [
        "nobel_winners[0].values()"
      ]
    },
    {
      "cell_type": "markdown",
      "id": "ede01dc6",
      "metadata": {
        "id": "ede01dc6"
      },
      "source": [
        "3) Write the dict information into the nobel_winners.csv file"
      ]
    },
    {
      "cell_type": "markdown",
      "id": "77696a94",
      "metadata": {
        "id": "77696a94"
      },
      "source": [
        "4)  Read the nobel_winners.csv file"
      ]
    },
    {
      "cell_type": "markdown",
      "id": "9e78e2e1",
      "metadata": {
        "id": "9e78e2e1"
      },
      "source": [
        "5) Write our nobel_winners data to a CSV using  the csv DictWriter class"
      ]
    },
    {
      "cell_type": "code",
      "execution_count": null,
      "id": "aNyWbobqgM9K",
      "metadata": {
        "id": "aNyWbobqgM9K"
      },
      "outputs": [],
      "source": [
        "import csv\n",
        "with open('nobel_winners_DW.csv','w') as f:\n",
        "  fieldnames=nobel_winners[0].keys()\n",
        "  writer=csv.DictWriter(f, fieldnames=fieldnames)\n",
        "  writer.writeheader()\n",
        "  for w in nobel_winners:\n",
        "    writer.writerow(w)"
      ]
    },
    {
      "cell_type": "markdown",
      "id": "b0c8c34d",
      "metadata": {
        "id": "b0c8c34d"
      },
      "source": [
        "6) Read the nobel_winners.csv file using csv reader or DictReader"
      ]
    },
    {
      "cell_type": "code",
      "execution_count": null,
      "id": "V6KS3n1og1FC",
      "metadata": {
        "colab": {
          "base_uri": "https://localhost:8080/"
        },
        "id": "V6KS3n1og1FC",
        "outputId": "e4949a56-ee0c-43f2-8e1e-6b227b8c7633"
      },
      "outputs": [
        {
          "name": "stdout",
          "output_type": "stream",
          "text": [
            "['category', 'name', 'nationality', 'sex', 'year']\n",
            "['Physics', 'Albert Einstein', 'Swiss', 'male', '1921']\n",
            "['Physics', 'Paul Dirac', 'British', 'male', '1933']\n",
            "['Chemistry', 'Marie Curie', 'Polish', 'female', '1911']\n"
          ]
        }
      ],
      "source": [
        "import csv\n",
        "with open('nobel_winners_DW.csv','r') as f:\n",
        "  reader=csv.reader(f)\n",
        "  for r in reader:\n",
        "    print(r)"
      ]
    },
    {
      "cell_type": "markdown",
      "id": "b8f375cb",
      "metadata": {
        "id": "b8f375cb"
      },
      "source": [
        "7) Write and Read our nobel_winners data to a CSV using the dump and load method of JSON"
      ]
    },
    {
      "cell_type": "code",
      "execution_count": null,
      "id": "5e76b100",
      "metadata": {
        "colab": {
          "base_uri": "https://localhost:8080/"
        },
        "id": "5e76b100",
        "outputId": "d1170c6c-769d-47d8-d193-9f678fcfd53b"
      },
      "outputs": [
        {
          "name": "stdout",
          "output_type": "stream",
          "text": [
            "[{'category': 'Physics', 'name': 'Albert Einstein', 'nationality': 'Swiss', 'sex': 'male', 'year': 1921}, {'category': 'Physics', 'name': 'Paul Dirac', 'nationality': 'British', 'sex': 'male', 'year': 1933}, {'category': 'Chemistry', 'name': 'Marie Curie', 'nationality': 'Polish', 'sex': 'female', 'year': 1911}]\n"
          ]
        }
      ],
      "source": [
        "import json\n",
        "with open('nobel_winners.json','w') as f:\n",
        "  json.dump(nobel_winners,f)\n",
        "\n",
        "with open('nobel_winners.json','r') as f:\n",
        "  nobel_wins=json.load(f)\n",
        "  print(nobel_wins)"
      ]
    },
    {
      "cell_type": "code",
      "execution_count": null,
      "id": "jfSwOiAluZTo",
      "metadata": {
        "id": "jfSwOiAluZTo"
      },
      "outputs": [],
      "source": []
    }
  ],
  "metadata": {
    "colab": {
      "include_colab_link": true,
      "provenance": []
    },
    "kernelspec": {
      "display_name": "Python 3 (ipykernel)",
      "language": "python",
      "name": "python3"
    },
    "language_info": {
      "codemirror_mode": {
        "name": "ipython",
        "version": 3
      },
      "file_extension": ".py",
      "mimetype": "text/x-python",
      "name": "python",
      "nbconvert_exporter": "python",
      "pygments_lexer": "ipython3",
      "version": "3.12.4"
    }
  },
  "nbformat": 4,
  "nbformat_minor": 5
}
